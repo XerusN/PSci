{
 "cells": [
  {
   "cell_type": "code",
   "execution_count": null,
   "metadata": {},
   "outputs": [],
   "source": [
    "plt.clf()\n",
    "num_colonne = 3\n",
    "\n",
    "value_file = np.loadtxt('parallel_novec.txt')\n",
    "\n",
    "threads = [0, 0, 0, 0, 0]\n",
    "computation_time = np.zeros(int(value_file.size/2))\n",
    "\n",
    "for i in range(int(value_file.size/2)):\n",
    "    threads[i] = int(value_file[i][0])\n",
    "    computation_time[i] = value_file[i][1]\n",
    "\n",
    "print(computation_time)\n",
    "\n",
    "ref = computation_time[0]\n",
    "for i in range(len(computation_time)):\n",
    "    computation_time[i] = ref/computation_time[i]\n",
    "\n",
    "print(computation_time)\n",
    "\n",
    "plt.plot(threads, computation_time, \"o--\")\n",
    "\n",
    "plt.xlabel(\"Nombre de threads\")\n",
    "plt.ylabel(\"Speedup\")\n",
    "plt.legend()\n",
    "plt.savefig('parallel_speedup_novec.png', dpi = 300)\n",
    "plt.show()"
   ]
  }
 ],
 "metadata": {
  "language_info": {
   "name": "python"
  }
 },
 "nbformat": 4,
 "nbformat_minor": 2
}
